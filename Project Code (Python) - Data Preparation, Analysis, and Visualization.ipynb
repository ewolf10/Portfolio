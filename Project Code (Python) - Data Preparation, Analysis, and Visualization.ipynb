{
 "cells": [
  {
   "cell_type": "code",
   "execution_count": 113,
   "id": "9274cff3",
   "metadata": {},
   "outputs": [],
   "source": [
    "import pandas as pd\n",
    "import numpy as np\n",
    "import matplotlib.pyplot as plt\n",
    "import seaborn as sns\n",
    "from sklearn.linear_model import LinearRegression\n",
    "from sklearn.linear_model import LogisticRegression\n",
    "from sklearn.model_selection import train_test_split\n",
    "from sklearn.metrics import mean_squared_error, mean_absolute_error\n",
    "from sklearn.preprocessing import StandardScaler\n",
    "from sklearn.preprocessing import MinMaxScaler\n",
    "from sklearn.metrics import *\n",
    "from sklearn.svm import SVC\n",
    "import statsmodels.api as sm\n",
    "from sklearn import tree\n",
    "from sklearn.tree import DecisionTreeClassifier, plot_tree, export_graphviz\n",
    "from sklearn.ensemble import RandomForestClassifier\n",
    "import graphviz\n",
    "from sklearn.discriminant_analysis import LinearDiscriminantAnalysis as LDA\n",
    "from sklearn.discriminant_analysis import QuadraticDiscriminantAnalysis as QDA\n",
    "from sklearn.cluster import KMeans\n",
    "from sklearn.mixture import GaussianMixture\n",
    "from sklearn.metrics import silhouette_score, adjusted_rand_score, homogeneity_score\n",
    "from sklearn.metrics import classification_report\n",
    "from sklearn.model_selection import GridSearchCV\n",
    "from sklearn.model_selection import KFold"
   ]
  },
  {
   "cell_type": "code",
   "execution_count": 114,
   "id": "bfb4c791",
   "metadata": {},
   "outputs": [],
   "source": [
    "import warnings\n",
    "warnings.filterwarnings(\"ignore\")"
   ]
  },
  {
   "cell_type": "markdown",
   "id": "95c8fdd0",
   "metadata": {},
   "source": [
    "# Data Preparation"
   ]
  },
  {
   "cell_type": "code",
   "execution_count": 115,
   "id": "ed6fecdf",
   "metadata": {},
   "outputs": [],
   "source": [
    "data = pd.read_csv('SP Raw Data (copy).csv')"
   ]
  },
  {
   "cell_type": "code",
   "execution_count": 116,
   "id": "d3678753",
   "metadata": {
    "scrolled": true
   },
   "outputs": [],
   "source": [
    "#Replace Empty Precipitation Values with Zeros\n",
    "data['snow'] = data['snow'].fillna(0)\n",
    "data['prcp'] = data['prcp'].fillna(0)\n",
    "data['tsun'] = data['tsun'].fillna(0)\n",
    "\n",
    "#Replace Empty Wind Gusts with Prevailing Wind Speed\n",
    "data['wpgt'] = np.where(data['wpgt'].isnull(), data['wspd'], data['wpgt'])\n",
    "\n",
    "#Prep Empty Weather Data for Deletion\n",
    "data['temp'] = data['temp'].fillna('Drop')\n",
    "data['dwpt'] = data['dwpt'].fillna('Drop')\n",
    "data['rhum'] = data['rhum'].fillna('Drop')\n",
    "data['wspd'] = data['wspd'].fillna('Drop')\n",
    "data['pres'] = data['pres'].fillna('Drop')\n",
    "\n",
    "#Convert Weather Condition Code\n",
    "data['Condition'] = np.where((data['coco'] != range(1,5)), 1, 0) #1 is adverse, 0 is fair\n",
    "data.drop(['wdir','coco'], axis=1, inplace=True)"
   ]
  },
  {
   "cell_type": "code",
   "execution_count": 117,
   "id": "df60d2a9",
   "metadata": {
    "scrolled": false
   },
   "outputs": [],
   "source": [
    "#Remove Lines without Pertinent Weather Data\n",
    "drop_condition1 = (data['temp'] == 'Drop') \n",
    "drop_condition2 = (data['rhum'] == 'Drop')\n",
    "drop_condition3 = (data['wspd'] == 'Drop')\n",
    "drop_condition4 = (data['pres'] == 'Drop')\n",
    "drop_condition5 = (data['dwpt'] == 'Drop')\n",
    "\n",
    "match_data = data.loc[~(drop_condition1|drop_condition2|drop_condition3|drop_condition4|drop_condition5)]"
   ]
  },
  {
   "cell_type": "code",
   "execution_count": 118,
   "id": "2b79b4a2",
   "metadata": {},
   "outputs": [],
   "source": [
    "match_data['Int:Temp*Hum'] = match_data['temp']*match_data['rhum']\n",
    "match_data['Int:Prec*Wind'] = (match_data['prcp']+1)*match_data['wspd']\n",
    "match_data['Int:Gust*Wind'] = np.abs(match_data['wpgt']-match_data['wspd'])*match_data['wspd']"
   ]
  },
  {
   "cell_type": "code",
   "execution_count": 119,
   "id": "a93e7332",
   "metadata": {},
   "outputs": [],
   "source": [
    "#Convert Categorical Variables \n",
    "def rain_cat(rain):\n",
    "    if rain==0:\n",
    "        return 'None'\n",
    "    elif 0 < rain <= 2.5:\n",
    "        return 'Light'\n",
    "    elif 2.5 < rain <= 4:\n",
    "        return 'Mod'\n",
    "    elif rain > 4:\n",
    "        return 'Heavy'\n",
    "match_data['prcp'] = match_data['prcp'].apply(rain_cat)\n",
    "\n",
    "def snow_cat(snow):\n",
    "    if snow==0:\n",
    "        return 'None'\n",
    "    elif 0 < snow <= 1:\n",
    "        return 'Light'\n",
    "    elif 1 < snow <= 2.5:\n",
    "        return 'Mod'\n",
    "    elif snow > 2.5:\n",
    "        return 'Heavy'\n",
    "match_data['snow'] = match_data['snow'].apply(snow_cat)\n",
    "\n",
    "snow_cat_df = pd.get_dummies(match_data['snow'], prefix = 'snow')\n",
    "rain_cat_df = pd.get_dummies(match_data['prcp'], prefix = 'prcp')\n",
    "\n",
    "match_data = pd.concat([match_data, rain_cat_df, snow_cat_df], axis=1)\n",
    "match_data.drop(['snow', 'prcp'], axis=1, inplace=True)"
   ]
  },
  {
   "cell_type": "code",
   "execution_count": 120,
   "id": "c8dc193c",
   "metadata": {},
   "outputs": [],
   "source": [
    "home = match_data.groupby('Home Team').sum()[['Home Points', 'Game Played']].rename(columns={'Game Played':'Home Games'})\n",
    "away = match_data.groupby('Away Team').sum()[['Away Points', 'Game Played']]\n",
    "\n",
    "points = pd.concat([home, away], axis=1)\n",
    "points = points.fillna(0)\n",
    "points['Total Points'] = points['Home Points'] + points['Away Points']\n",
    "points['Total Games'] = points['Home Games'] + points['Game Played']\n",
    "points['PPG'] = points['Total Points'] / points['Total Games']\n",
    "\n",
    "team_dict = points['PPG'].to_dict()"
   ]
  },
  {
   "cell_type": "code",
   "execution_count": 121,
   "id": "ead0fa4f",
   "metadata": {},
   "outputs": [],
   "source": [
    "match_data['Home Strength'] = match_data['Home Team']\n",
    "match_data = match_data.replace({'Home Strength': team_dict})\n",
    "\n",
    "match_data['Away Strength'] = match_data['Away Team']\n",
    "match_data = match_data.replace({'Away Strength': team_dict})"
   ]
  },
  {
   "cell_type": "code",
   "execution_count": 122,
   "id": "17b8bf86",
   "metadata": {},
   "outputs": [],
   "source": [
    "expected_cond1 = match_data['Home Strength'] > match_data['Away Strength']\n",
    "expected_cond2 = match_data['Result'] == 'Home'\n",
    "expected_cond3 = match_data['Home Strength'] < match_data['Away Strength']\n",
    "expected_cond4 = match_data['Result'] == 'Away'\n",
    "match_data['Expected Result'] = np.where((expected_cond1 & expected_cond2) | (expected_cond3 & expected_cond4), 'Expected', 'Upset')\n",
    "\n",
    "match_data['HFA'] = np.where(match_data['Result']=='Home', 1, 0)"
   ]
  },
  {
   "cell_type": "code",
   "execution_count": 123,
   "id": "14dc9278",
   "metadata": {},
   "outputs": [
    {
     "data": {
      "text/html": [
       "<div>\n",
       "<style scoped>\n",
       "    .dataframe tbody tr th:only-of-type {\n",
       "        vertical-align: middle;\n",
       "    }\n",
       "\n",
       "    .dataframe tbody tr th {\n",
       "        vertical-align: top;\n",
       "    }\n",
       "\n",
       "    .dataframe thead th {\n",
       "        text-align: right;\n",
       "    }\n",
       "</style>\n",
       "<table border=\"1\" class=\"dataframe\">\n",
       "  <thead>\n",
       "    <tr style=\"text-align: right;\">\n",
       "      <th></th>\n",
       "      <th>Away Team</th>\n",
       "      <th>Game Played</th>\n",
       "    </tr>\n",
       "    <tr>\n",
       "      <th>League</th>\n",
       "      <th></th>\n",
       "      <th></th>\n",
       "    </tr>\n",
       "  </thead>\n",
       "  <tbody>\n",
       "    <tr>\n",
       "      <th>Bundesliga</th>\n",
       "      <td>25</td>\n",
       "      <td>1434</td>\n",
       "    </tr>\n",
       "    <tr>\n",
       "      <th>EPL</th>\n",
       "      <td>28</td>\n",
       "      <td>1721</td>\n",
       "    </tr>\n",
       "    <tr>\n",
       "      <th>La Liga</th>\n",
       "      <td>28</td>\n",
       "      <td>1824</td>\n",
       "    </tr>\n",
       "    <tr>\n",
       "      <th>Ligue 1</th>\n",
       "      <td>26</td>\n",
       "      <td>1903</td>\n",
       "    </tr>\n",
       "    <tr>\n",
       "      <th>Serie A</th>\n",
       "      <td>28</td>\n",
       "      <td>1665</td>\n",
       "    </tr>\n",
       "  </tbody>\n",
       "</table>\n",
       "</div>"
      ],
      "text/plain": [
       "            Away Team  Game Played\n",
       "League                            \n",
       "Bundesliga         25         1434\n",
       "EPL                28         1721\n",
       "La Liga            28         1824\n",
       "Ligue 1            26         1903\n",
       "Serie A            28         1665"
      ]
     },
     "execution_count": 123,
     "metadata": {},
     "output_type": "execute_result"
    }
   ],
   "source": [
    "a = match_data.groupby(by='League')['Away Team'].nunique()\n",
    "b = match_data.groupby(by='League').sum()['Game Played']\n",
    "pd.DataFrame(pd.concat([a,b],axis=1))"
   ]
  },
  {
   "cell_type": "code",
   "execution_count": 124,
   "id": "e2ddb52d",
   "metadata": {},
   "outputs": [
    {
     "data": {
      "text/plain": [
       "Index(['tsun', 'Game Played', 'Home Points', 'Away Points', 'Condition',\n",
       "       'prcp_Heavy', 'prcp_Light', 'prcp_Mod', 'prcp_None', 'snow_Heavy',\n",
       "       'snow_None', 'Home Strength', 'Away Strength', 'HFA'],\n",
       "      dtype='object')"
      ]
     },
     "execution_count": 124,
     "metadata": {},
     "output_type": "execute_result"
    }
   ],
   "source": [
    "match_data.groupby(['Home Team']).sum().columns[110:124]"
   ]
  },
  {
   "cell_type": "markdown",
   "id": "067ff2fd",
   "metadata": {},
   "source": [
    "# Define Style of Play"
   ]
  },
  {
   "cell_type": "markdown",
   "id": "c3fa60b4",
   "metadata": {},
   "source": [
    "Pre-Processing Team DataFrame"
   ]
  },
  {
   "cell_type": "code",
   "execution_count": 125,
   "id": "78a72ca9",
   "metadata": {},
   "outputs": [],
   "source": [
    "home_stats = match_data.groupby(['Home Team']).sum().iloc[:, np.r_[1:55,121, 111]]\n",
    "away_stats = match_data.groupby(['Away Team']).sum().iloc[:, np.r_[55:109,122, 111]]\n",
    "\n",
    "temp = pd.concat([home_stats, away_stats], axis=1)\n",
    "temp.fillna(0, inplace=True)"
   ]
  },
  {
   "cell_type": "code",
   "execution_count": 126,
   "id": "645c6c77",
   "metadata": {},
   "outputs": [],
   "source": [
    "team_stats = pd.DataFrame(columns=range(0,56))\n",
    "\n",
    "for i in range(56):\n",
    "    team_stats.iloc[:,i] = temp.iloc[:,i]+temp.iloc[:,i+56]"
   ]
  },
  {
   "cell_type": "code",
   "execution_count": 127,
   "id": "a2a06da2",
   "metadata": {},
   "outputs": [],
   "source": [
    "col = ['Goals For','Assist','PK For', 'PK Attempted', 'Shots For', 'Shots on Target', 'Yellow Card', 'Red Card', 'Shot Creating Action', 'Goal Creating Action',\n",
    "      'Penetrating Pass', 'Carries', 'Penetrating Carries', 'Passes Complete', 'Passes Attempted', 'Pass Completion %', \n",
    "      'Total Distance Passed', 'Progressive Distance Passed', 'Short Pass Completion %', 'Medium Pass Completion %', 'Long Pass Completion %', \n",
    "      'Switch Pass', 'Cross Pass', 'Corners', 'Tackles', 'Tackles Won', '% Dribblers Tackled', 'Total Blocks', 'Shots Blocked', 'Passes Blocked',\n",
    "       'Defensive Interceptions', 'Defensive Clearance', 'Defensive Eror', 'Touches', 'Take On Attempts', 'Take On Success', 'Take On Success %', \n",
    "       'Carries 2', 'Total Distance Carried', 'Miscontrol', 'Dispossessed', 'Fouls', 'Fouls Drawn', 'Offsides', 'PK Won', 'PK Conceded', 'Own Goal', \n",
    "       'Recovery', 'Aerial Won', 'Aerial Lost', 'Aerial Won %', 'Shots on Target Against', 'Goals Against', 'Saves', 'Points','Games Played']\n",
    "\n",
    "team_stats.columns = col"
   ]
  },
  {
   "cell_type": "markdown",
   "id": "80aa216b",
   "metadata": {},
   "source": [
    "Normalize by Games Played, Standardize Stats"
   ]
  },
  {
   "cell_type": "code",
   "execution_count": 128,
   "id": "1c48836e",
   "metadata": {
    "scrolled": false
   },
   "outputs": [],
   "source": [
    "#Normalize by Number of Games Played\n",
    "for i in team_stats.columns:\n",
    "    team_stats[i] = team_stats[i] / team_stats['Games Played']"
   ]
  },
  {
   "cell_type": "code",
   "execution_count": 129,
   "id": "15957738",
   "metadata": {},
   "outputs": [],
   "source": [
    "team_stats = team_stats.drop(['Points', 'Games Played'], axis=1)\n",
    "team_names = team_stats.index.to_list()\n",
    "col_names = team_stats.columns"
   ]
  },
  {
   "cell_type": "code",
   "execution_count": 130,
   "id": "e97eed82",
   "metadata": {},
   "outputs": [],
   "source": [
    "scaler = MinMaxScaler()\n",
    "team_stats_scaled = pd.DataFrame(scaler.fit_transform(team_stats), index=team_names, columns = col_names)"
   ]
  },
  {
   "cell_type": "markdown",
   "id": "53727913",
   "metadata": {},
   "source": [
    "Define Style of Play Axes"
   ]
  },
  {
   "cell_type": "code",
   "execution_count": 131,
   "id": "76a7aa05",
   "metadata": {},
   "outputs": [],
   "source": [
    "#Correct for Variables where Lower is Better\n",
    "team_stats_scaled.iloc[:,[32,39,40,43,45,46, 51, 52]] = -team_stats_scaled.iloc[:,[32,39,40,43,45,46, 51, 52]]"
   ]
  },
  {
   "cell_type": "code",
   "execution_count": 132,
   "id": "c1bf2c90",
   "metadata": {},
   "outputs": [],
   "source": [
    "off_col = ['Goals For', 'Shots For', 'Shots on Target', 'Shot Creating Action', 'Goal Creating Action',\n",
    "          'Penetrating Pass', 'Penetrating Carries', 'Corners', 'Offsides']\n",
    "\n",
    "def_col = ['Total Blocks', 'Shots Blocked', 'Passes Blocked','Defensive Interceptions', 'Defensive Clearance', \n",
    "           'Defensive Eror', 'Own Goal','Recovery', 'Aerial Won', 'Aerial Lost',\n",
    "           'Shots on Target Against', 'Goals Against', 'Saves']\n",
    "\n",
    "skill_col = ['Carries', 'Passes Complete', 'Passes Attempted', 'Total Distance Passed', 'Progressive Distance Passed', 'Short Pass Completion %', \n",
    "             'Medium Pass Completion %', 'Long Pass Completion %', 'Touches', 'Take On Success','Total Distance Carried', \n",
    "             'Miscontrol', 'Dispossessed','Fouls Drawn','PK Won']\n",
    "\n",
    "force_col = ['Tackles', 'Tackles Won', '% Dribblers Tackled','Yellow Card', 'Red Card','Fouls', 'PK Conceded',]"
   ]
  },
  {
   "cell_type": "code",
   "execution_count": 174,
   "id": "f0377f22",
   "metadata": {},
   "outputs": [],
   "source": [
    "#Offense-Defense Axis\n",
    "off_def_axis = pd.DataFrame()\n",
    "off_def_axis['Offense'] = team_stats_scaled[off_col].sum(axis=1)/len(off_col)\n",
    "off_def_axis['Defense'] = team_stats_scaled[def_col].sum(axis=1)/len(def_col)\n",
    "\n",
    "#Skill-Force Axis\n",
    "skill_force_axis = pd.DataFrame()\n",
    "skill_force_axis['Skill'] = team_stats_scaled[skill_col].sum(axis=1)/len(skill_col)\n",
    "skill_force_axis['Strength'] = team_stats_scaled[force_col].sum(axis=1)/len(force_col)"
   ]
  },
  {
   "cell_type": "code",
   "execution_count": 134,
   "id": "24b82e62",
   "metadata": {},
   "outputs": [
    {
     "data": {
      "image/png": "[encoded data removed]",
      "text/plain": [
       "<Figure size 360x360 with 1 Axes>"
      ]
     },
     "metadata": {
      "needs_background": "light"
     },
     "output_type": "display_data"
    }
   ],
   "source": [
    "plt.figure(figsize=(5,5))\n",
    "plt.scatter(off_def_axis['Offense'], -off_def_axis['Defense'])\n",
    "plot_list = ['Cardiff City','Juventus','Paris S-G','Dortmund','Lecce','Arsenal','Las Palmas']\n",
    "for i in plot_list:\n",
    "    plt.annotate(i,(off_def_axis['Offense'][i]+0.02,-off_def_axis['Defense'][i]))\n",
    "plt.xlabel('Offense')\n",
    "plt.ylabel('Defense')\n",
    "plt.title('Offense v. Defense')\n",
    "plt.show()"
   ]
  },
  {
   "cell_type": "code",
   "execution_count": 135,
   "id": "0bf286f2",
   "metadata": {},
   "outputs": [
    {
     "data": {
      "image/png": "[encoded data removed]",
      "text/plain": [
       "<Figure size 360x360 with 1 Axes>"
      ]
     },
     "metadata": {
      "needs_background": "light"
     },
     "output_type": "display_data"
    }
   ],
   "source": [
    "plt.figure(figsize=(5,5))\n",
    "plt.scatter(skill_force_axis['Skill'],-skill_force_axis['Strength'],color='orange')\n",
    "plot_list2 = ['Cardiff City','Liverpool','Napoli','Dortmund','Hamburger SV','Freiburg','Las Palmas']\n",
    "for i in plot_list2:\n",
    "    plt.annotate(i,(skill_force_axis['Skill'][i]+0.01,-skill_force_axis['Strength'][i]))\n",
    "plt.xlabel('Skill')\n",
    "plt.ylabel('Strength')\n",
    "plt.title('Strength v. Skill')\n",
    "plt.show()"
   ]
  },
  {
   "cell_type": "code",
   "execution_count": 136,
   "id": "bb83b115",
   "metadata": {},
   "outputs": [],
   "source": [
    "#Combine Both Axes\n",
    "style_of_play = pd.DataFrame()\n",
    "style_of_play['Defense - Offense'] = off_def_axis['Offense'] + off_def_axis['Defense']\n",
    "style_of_play['Strength - Skill'] = skill_force_axis['Skill'] + skill_force_axis['Strength']"
   ]
  },
  {
   "cell_type": "code",
   "execution_count": 137,
   "id": "0528c3e0",
   "metadata": {},
   "outputs": [
    {
     "data": {
      "image/png": "[encoded data removed]",
      "text/plain": [
       "<Figure size 432x288 with 1 Axes>"
      ]
     },
     "metadata": {
      "needs_background": "light"
     },
     "output_type": "display_data"
    }
   ],
   "source": [
    "#plt.figure(figsize=(9,8))\n",
    "plt.scatter(style_of_play['Defense - Offense'],style_of_play['Strength - Skill'],color='green')\n",
    "plot_list3 = ['Manchester City','Paris S-G','Hamburger SV','Everton','Cardiff City','Liverpool','Arsenal','Swansea City','Lecce']\n",
    "for i in plot_list3:\n",
    "    plt.annotate(i,(style_of_play['Defense - Offense'][i]+0.01,style_of_play['Strength - Skill'][i]))\n",
    "plt.xlabel('Defense - Offense')\n",
    "plt.ylabel('Strength - Skill')\n",
    "plt.title('Style of Play')\n",
    "plt.show()"
   ]
  },
  {
   "cell_type": "markdown",
   "id": "0181a07f",
   "metadata": {},
   "source": [
    "PCA"
   ]
  },
  {
   "cell_type": "code",
   "execution_count": 178,
   "id": "2f39b892",
   "metadata": {},
   "outputs": [
    {
     "data": {
      "text/html": [
       "<div>\n",
       "<style scoped>\n",
       "    .dataframe tbody tr th:only-of-type {\n",
       "        vertical-align: middle;\n",
       "    }\n",
       "\n",
       "    .dataframe tbody tr th {\n",
       "        vertical-align: top;\n",
       "    }\n",
       "\n",
       "    .dataframe thead th {\n",
       "        text-align: right;\n",
       "    }\n",
       "</style>\n",
       "<table border=\"1\" class=\"dataframe\">\n",
       "  <thead>\n",
       "    <tr style=\"text-align: right;\">\n",
       "      <th></th>\n",
       "      <th>Offense</th>\n",
       "      <th>Defense</th>\n",
       "      <th>Skill</th>\n",
       "      <th>Strength</th>\n",
       "    </tr>\n",
       "  </thead>\n",
       "  <tbody>\n",
       "    <tr>\n",
       "      <th>Alavés</th>\n",
       "      <td>0.074904</td>\n",
       "      <td>0.184768</td>\n",
       "      <td>0.164585</td>\n",
       "      <td>0.307290</td>\n",
       "    </tr>\n",
       "    <tr>\n",
       "      <th>Amiens</th>\n",
       "      <td>0.118446</td>\n",
       "      <td>0.230857</td>\n",
       "      <td>0.169219</td>\n",
       "      <td>0.311454</td>\n",
       "    </tr>\n",
       "    <tr>\n",
       "      <th>Angers</th>\n",
       "      <td>0.274919</td>\n",
       "      <td>0.132248</td>\n",
       "      <td>0.302664</td>\n",
       "      <td>0.216823</td>\n",
       "    </tr>\n",
       "  </tbody>\n",
       "</table>\n",
       "</div>"
      ],
      "text/plain": [
       "         Offense   Defense     Skill  Strength\n",
       "Alavés  0.074904  0.184768  0.164585  0.307290\n",
       "Amiens  0.118446  0.230857  0.169219  0.311454\n",
       "Angers  0.274919  0.132248  0.302664  0.216823"
      ]
     },
     "execution_count": 178,
     "metadata": {},
     "output_type": "execute_result"
    }
   ],
   "source": [
    "#Make 4-D Matrix for Clustering\n",
    "combined_axes = pd.concat([off_def_axis, skill_force_axis], axis=1)\n",
    "combined_axes.head(3)"
   ]
  },
  {
   "cell_type": "code",
   "execution_count": 179,
   "id": "1cbc8f60",
   "metadata": {},
   "outputs": [
    {
     "data": {
      "image/png": "[encoded data removed]",
      "text/plain": [
       "<Figure size 432x288 with 2 Axes>"
      ]
     },
     "metadata": {
      "needs_background": "light"
     },
     "output_type": "display_data"
    }
   ],
   "source": [
    "sns.heatmap(combined_axes.corr(), cmap=\"YlGnBu\")\n",
    "plt.title('Style of Play Feature Correlation')\n",
    "plt.show()"
   ]
  },
  {
   "cell_type": "code",
   "execution_count": 180,
   "id": "20110501",
   "metadata": {},
   "outputs": [
    {
     "name": "stdout",
     "output_type": "stream",
     "text": [
      "Explainated Variance:  [0.7586816  0.14025805]\n"
     ]
    },
    {
     "data": {
      "text/html": [
       "<div>\n",
       "<style scoped>\n",
       "    .dataframe tbody tr th:only-of-type {\n",
       "        vertical-align: middle;\n",
       "    }\n",
       "\n",
       "    .dataframe tbody tr th {\n",
       "        vertical-align: top;\n",
       "    }\n",
       "\n",
       "    .dataframe thead th {\n",
       "        text-align: right;\n",
       "    }\n",
       "</style>\n",
       "<table border=\"1\" class=\"dataframe\">\n",
       "  <thead>\n",
       "    <tr style=\"text-align: right;\">\n",
       "      <th></th>\n",
       "      <th>Offense</th>\n",
       "      <th>Defense</th>\n",
       "      <th>Skill</th>\n",
       "      <th>Strength</th>\n",
       "    </tr>\n",
       "  </thead>\n",
       "  <tbody>\n",
       "    <tr>\n",
       "      <th>0</th>\n",
       "      <td>0.741426</td>\n",
       "      <td>-0.183999</td>\n",
       "      <td>0.635405</td>\n",
       "      <td>-0.112661</td>\n",
       "    </tr>\n",
       "    <tr>\n",
       "      <th>1</th>\n",
       "      <td>0.147413</td>\n",
       "      <td>0.144216</td>\n",
       "      <td>0.043079</td>\n",
       "      <td>0.977556</td>\n",
       "    </tr>\n",
       "  </tbody>\n",
       "</table>\n",
       "</div>"
      ],
      "text/plain": [
       "    Offense   Defense     Skill  Strength\n",
       "0  0.741426 -0.183999  0.635405 -0.112661\n",
       "1  0.147413  0.144216  0.043079  0.977556"
      ]
     },
     "execution_count": 180,
     "metadata": {},
     "output_type": "execute_result"
    }
   ],
   "source": [
    "from sklearn.decomposition import PCA\n",
    "\n",
    "pca = PCA(n_components=2)\n",
    "pca = pca.fit(combined_axes)\n",
    "print('Explainated Variance: ', pca.explained_variance_ratio_)\n",
    "pd.DataFrame([pca.components_[0], pca.components_[1]],columns = combined_axes.columns)"
   ]
  },
  {
   "cell_type": "code",
   "execution_count": 181,
   "id": "ec7c5b3c",
   "metadata": {},
   "outputs": [],
   "source": [
    "pca = pca.fit_transform(combined_axes)"
   ]
  },
  {
   "cell_type": "code",
   "execution_count": 182,
   "id": "2fda3ceb",
   "metadata": {},
   "outputs": [
    {
     "data": {
      "image/png": "[encoded data removed]",
      "text/plain": [
       "<Figure size 432x288 with 1 Axes>"
      ]
     },
     "metadata": {
      "needs_background": "light"
     },
     "output_type": "display_data"
    }
   ],
   "source": [
    "pca_df = pd.DataFrame(pca, index = team_names, columns = ['PC1', 'PC2'])\n",
    "plt.scatter(data=pca_df, x='PC1', y='PC2')\n",
    "plot_list = ['Manchester City','Bayern Munich','Cardiff City','Burnley','Barcelona','Paris S-G','Hamburger SV', 'Málaga', 'Liverpool', 'Getafe']\n",
    "for i in plot_list:\n",
    "    plt.annotate(i,(pca_df['PC1'][i]+0.02, pca_df['PC2'][i]-0.02))\n",
    "plt.xlabel('PC-1')\n",
    "plt.ylabel('PC-2')\n",
    "plt.title('2D PCA - Style of Play')\n",
    "plt.show()"
   ]
  },
  {
   "cell_type": "code",
   "execution_count": 183,
   "id": "df20fea9",
   "metadata": {},
   "outputs": [
    {
     "data": {
      "text/html": [
       "<div>\n",
       "<style scoped>\n",
       "    .dataframe tbody tr th:only-of-type {\n",
       "        vertical-align: middle;\n",
       "    }\n",
       "\n",
       "    .dataframe tbody tr th {\n",
       "        vertical-align: top;\n",
       "    }\n",
       "\n",
       "    .dataframe thead th {\n",
       "        text-align: right;\n",
       "    }\n",
       "</style>\n",
       "<table border=\"1\" class=\"dataframe\">\n",
       "  <thead>\n",
       "    <tr style=\"text-align: right;\">\n",
       "      <th></th>\n",
       "      <th>Offense</th>\n",
       "      <th>Defense</th>\n",
       "      <th>Skill</th>\n",
       "      <th>Strength</th>\n",
       "    </tr>\n",
       "  </thead>\n",
       "  <tbody>\n",
       "    <tr>\n",
       "      <th>Manchester City</th>\n",
       "      <td>0.779939</td>\n",
       "      <td>0.039931</td>\n",
       "      <td>0.702652</td>\n",
       "      <td>0.075062</td>\n",
       "    </tr>\n",
       "    <tr>\n",
       "      <th>Bayern Munich</th>\n",
       "      <td>0.757806</td>\n",
       "      <td>0.122517</td>\n",
       "      <td>0.642485</td>\n",
       "      <td>0.175610</td>\n",
       "    </tr>\n",
       "  </tbody>\n",
       "</table>\n",
       "</div>"
      ],
      "text/plain": [
       "                  Offense   Defense     Skill  Strength\n",
       "Manchester City  0.779939  0.039931  0.702652  0.075062\n",
       "Bayern Munich    0.757806  0.122517  0.642485  0.175610"
      ]
     },
     "execution_count": 183,
     "metadata": {},
     "output_type": "execute_result"
    }
   ],
   "source": [
    "combined_axes.sort_values(by='Offense', ascending=False).head(2)"
   ]
  },
  {
   "cell_type": "code",
   "execution_count": 188,
   "id": "58bc0a83",
   "metadata": {},
   "outputs": [
    {
     "data": {
      "text/html": [
       "<div>\n",
       "<style scoped>\n",
       "    .dataframe tbody tr th:only-of-type {\n",
       "        vertical-align: middle;\n",
       "    }\n",
       "\n",
       "    .dataframe tbody tr th {\n",
       "        vertical-align: top;\n",
       "    }\n",
       "\n",
       "    .dataframe thead th {\n",
       "        text-align: right;\n",
       "    }\n",
       "</style>\n",
       "<table border=\"1\" class=\"dataframe\">\n",
       "  <thead>\n",
       "    <tr style=\"text-align: right;\">\n",
       "      <th></th>\n",
       "      <th>Offense</th>\n",
       "      <th>Defense</th>\n",
       "      <th>Skill</th>\n",
       "      <th>Strength</th>\n",
       "    </tr>\n",
       "  </thead>\n",
       "  <tbody>\n",
       "    <tr>\n",
       "      <th>Cardiff City</th>\n",
       "      <td>0.087679</td>\n",
       "      <td>0.354229</td>\n",
       "      <td>0.005241</td>\n",
       "      <td>0.133937</td>\n",
       "    </tr>\n",
       "    <tr>\n",
       "      <th>Burnley</th>\n",
       "      <td>0.021362</td>\n",
       "      <td>0.319242</td>\n",
       "      <td>0.116714</td>\n",
       "      <td>0.131094</td>\n",
       "    </tr>\n",
       "    <tr>\n",
       "      <th>Hamburger SV</th>\n",
       "      <td>0.236706</td>\n",
       "      <td>0.294545</td>\n",
       "      <td>0.212029</td>\n",
       "      <td>0.617284</td>\n",
       "    </tr>\n",
       "  </tbody>\n",
       "</table>\n",
       "</div>"
      ],
      "text/plain": [
       "               Offense   Defense     Skill  Strength\n",
       "Cardiff City  0.087679  0.354229  0.005241  0.133937\n",
       "Burnley       0.021362  0.319242  0.116714  0.131094\n",
       "Hamburger SV  0.236706  0.294545  0.212029  0.617284"
      ]
     },
     "execution_count": 188,
     "metadata": {},
     "output_type": "execute_result"
    }
   ],
   "source": [
    "combined_axes.sort_values(by='Defense', ascending=False).head(3)"
   ]
  },
  {
   "cell_type": "code",
   "execution_count": 185,
   "id": "8cf7f70e",
   "metadata": {},
   "outputs": [
    {
     "data": {
      "text/html": [
       "<div>\n",
       "<style scoped>\n",
       "    .dataframe tbody tr th:only-of-type {\n",
       "        vertical-align: middle;\n",
       "    }\n",
       "\n",
       "    .dataframe tbody tr th {\n",
       "        vertical-align: top;\n",
       "    }\n",
       "\n",
       "    .dataframe thead th {\n",
       "        text-align: right;\n",
       "    }\n",
       "</style>\n",
       "<table border=\"1\" class=\"dataframe\">\n",
       "  <thead>\n",
       "    <tr style=\"text-align: right;\">\n",
       "      <th></th>\n",
       "      <th>Offense</th>\n",
       "      <th>Defense</th>\n",
       "      <th>Skill</th>\n",
       "      <th>Strength</th>\n",
       "    </tr>\n",
       "  </thead>\n",
       "  <tbody>\n",
       "    <tr>\n",
       "      <th>Manchester City</th>\n",
       "      <td>0.779939</td>\n",
       "      <td>0.039931</td>\n",
       "      <td>0.702652</td>\n",
       "      <td>0.075062</td>\n",
       "    </tr>\n",
       "    <tr>\n",
       "      <th>Barcelona</th>\n",
       "      <td>0.517929</td>\n",
       "      <td>0.057036</td>\n",
       "      <td>0.691179</td>\n",
       "      <td>0.258182</td>\n",
       "    </tr>\n",
       "    <tr>\n",
       "      <th>Paris S-G</th>\n",
       "      <td>0.589568</td>\n",
       "      <td>0.009203</td>\n",
       "      <td>0.673812</td>\n",
       "      <td>0.317948</td>\n",
       "    </tr>\n",
       "  </tbody>\n",
       "</table>\n",
       "</div>"
      ],
      "text/plain": [
       "                  Offense   Defense     Skill  Strength\n",
       "Manchester City  0.779939  0.039931  0.702652  0.075062\n",
       "Barcelona        0.517929  0.057036  0.691179  0.258182\n",
       "Paris S-G        0.589568  0.009203  0.673812  0.317948"
      ]
     },
     "execution_count": 185,
     "metadata": {},
     "output_type": "execute_result"
    }
   ],
   "source": [
    "combined_axes.sort_values(by='Skill', ascending=False).head(3)"
   ]
  },
  {
   "cell_type": "code",
   "execution_count": 189,
   "id": "8988a523",
   "metadata": {},
   "outputs": [
    {
     "data": {
      "text/html": [
       "<div>\n",
       "<style scoped>\n",
       "    .dataframe tbody tr th:only-of-type {\n",
       "        vertical-align: middle;\n",
       "    }\n",
       "\n",
       "    .dataframe tbody tr th {\n",
       "        vertical-align: top;\n",
       "    }\n",
       "\n",
       "    .dataframe thead th {\n",
       "        text-align: right;\n",
       "    }\n",
       "</style>\n",
       "<table border=\"1\" class=\"dataframe\">\n",
       "  <thead>\n",
       "    <tr style=\"text-align: right;\">\n",
       "      <th></th>\n",
       "      <th>Offense</th>\n",
       "      <th>Defense</th>\n",
       "      <th>Skill</th>\n",
       "      <th>Strength</th>\n",
       "    </tr>\n",
       "  </thead>\n",
       "  <tbody>\n",
       "    <tr>\n",
       "      <th>Hamburger SV</th>\n",
       "      <td>0.236706</td>\n",
       "      <td>0.294545</td>\n",
       "      <td>0.212029</td>\n",
       "      <td>0.617284</td>\n",
       "    </tr>\n",
       "    <tr>\n",
       "      <th>Málaga</th>\n",
       "      <td>0.060608</td>\n",
       "      <td>0.222402</td>\n",
       "      <td>0.179194</td>\n",
       "      <td>0.506559</td>\n",
       "    </tr>\n",
       "  </tbody>\n",
       "</table>\n",
       "</div>"
      ],
      "text/plain": [
       "               Offense   Defense     Skill  Strength\n",
       "Hamburger SV  0.236706  0.294545  0.212029  0.617284\n",
       "Málaga        0.060608  0.222402  0.179194  0.506559"
      ]
     },
     "execution_count": 189,
     "metadata": {},
     "output_type": "execute_result"
    }
   ],
   "source": [
    "combined_axes.sort_values(by='Strength', ascending=False).head(2)"
   ]
  },
  {
   "cell_type": "markdown",
   "id": "b039e0d8",
   "metadata": {},
   "source": [
    "# Clustering"
   ]
  },
  {
   "cell_type": "code",
   "execution_count": 140,
   "id": "e4e74815",
   "metadata": {},
   "outputs": [],
   "source": [
    "summary = pd.DataFrame(index = team_names)"
   ]
  },
  {
   "cell_type": "markdown",
   "id": "ba17dcf4",
   "metadata": {},
   "source": [
    "K-Means"
   ]
  },
  {
   "cell_type": "code",
   "execution_count": 141,
   "id": "fb33263f",
   "metadata": {},
   "outputs": [
    {
     "data": {
      "image/png": "[encoded data removed]",
      "text/plain": [
       "<Figure size 432x288 with 1 Axes>"
      ]
     },
     "metadata": {
      "needs_background": "light"
     },
     "output_type": "display_data"
    }
   ],
   "source": [
    "inertia = []\n",
    "K = range(2,10)\n",
    "for k in K:\n",
    "    kmeanModel = KMeans(n_clusters=k, random_state=7).fit(combined_axes)\n",
    "    kmeanModel.fit(combined_axes)\n",
    "    inertia.append(kmeanModel.inertia_)\n",
    "    \n",
    "# Plot the elbow\n",
    "plt.plot(K, inertia, 'bx-')\n",
    "plt.xlabel('# Clusters')\n",
    "plt.ylabel('Inertia')\n",
    "plt.title('K Means Optimal k: Inertia Plot')\n",
    "plt.show()"
   ]
  },
  {
   "cell_type": "code",
   "execution_count": 142,
   "id": "737f8db4",
   "metadata": {
    "scrolled": true
   },
   "outputs": [],
   "source": [
    "kmeans = KMeans(n_clusters=5, random_state=7)\n",
    "kmeans.fit(combined_axes)\n",
    "summary['KM Cluster'] = kmeans.labels_"
   ]
  },
  {
   "cell_type": "code",
   "execution_count": 187,
   "id": "c4272a02",
   "metadata": {},
   "outputs": [
    {
     "data": {
      "image/png": "[encoded data removed]",
      "text/plain": [
       "<Figure size 432x288 with 1 Axes>"
      ]
     },
     "metadata": {
      "needs_background": "light"
     },
     "output_type": "display_data"
    }
   ],
   "source": [
    "sns.scatterplot(data=pca_df, x='PC1', y='PC2',palette='Set1',hue=summary['KM Cluster'])\n",
    "plt.xlabel('PC-1')\n",
    "plt.ylabel('PC-2')\n",
    "plt.axvline(x=0,color='black',linewidth=0.5)\n",
    "plt.axhline(y=0,color='black',linewidth=0.5)\n",
    "plt.legend(title='KM Cluster')\n",
    "plt.title('K-Means Clusters by Style of Play')\n",
    "plt.show()"
   ]
  },
  {
   "cell_type": "code",
   "execution_count": 143,
   "id": "330362be",
   "metadata": {},
   "outputs": [
    {
     "data": {
      "image/png": "[encoded data removed]",
      "text/plain": [
       "<Figure size 432x288 with 1 Axes>"
      ]
     },
     "metadata": {
      "needs_background": "light"
     },
     "output_type": "display_data"
    }
   ],
   "source": [
    "sns.scatterplot(data=style_of_play, x='Defense - Offense', y='Strength - Skill',palette='Set1',hue=summary['KM Cluster'])\n",
    "plt.xlabel('Defense - Offense')\n",
    "plt.ylabel('Strength - Skill')\n",
    "plt.axvline(x=0,color='black',linewidth=0.5)\n",
    "plt.axhline(y=0,color='black',linewidth=0.5)\n",
    "plt.legend(title='KM Cluster')\n",
    "plt.title('K-Means Clusters by Style of Play')\n",
    "plt.show()"
   ]
  },
  {
   "cell_type": "code",
   "execution_count": 193,
   "id": "9915c7af",
   "metadata": {
    "scrolled": true
   },
   "outputs": [
    {
     "data": {
      "image/png": "[encoded data removed]",
      "text/plain": [
       "<Figure size 864x432 with 2 Axes>"
      ]
     },
     "metadata": {
      "needs_background": "light"
     },
     "output_type": "display_data"
    }
   ],
   "source": [
    "plt.figure(figsize=(12,6))\n",
    "plt.subplot(1,2,1)\n",
    "sns.countplot(data=summary, x='KM Cluster', palette='Set1')\n",
    "plt.title('Quantity of Teams per K-Means Cluster')\n",
    "plt.subplot(1,2,2)\n",
    "sns.scatterplot(data=pca_df, x='PC1', y='PC2',palette='Set1',hue=summary['KM Cluster'])\n",
    "plt.xlabel('PC-1')\n",
    "plt.ylabel('PC-2')\n",
    "plt.axvline(x=0,color='black',linewidth=0.5)\n",
    "plt.axhline(y=0,color='black',linewidth=0.5)\n",
    "plt.legend(title='KM Cluster')\n",
    "plt.title('K-Means Clusters by Style of Play')\n",
    "plt.show()"
   ]
  },
  {
   "cell_type": "markdown",
   "id": "d68ac31f",
   "metadata": {},
   "source": [
    "GMM"
   ]
  },
  {
   "cell_type": "code",
   "execution_count": 145,
   "id": "5643957a",
   "metadata": {},
   "outputs": [
    {
     "data": {
      "image/png": "[encoded data removed]",
      "text/plain": [
       "<Figure size 432x288 with 1 Axes>"
      ]
     },
     "metadata": {
      "needs_background": "light"
     },
     "output_type": "display_data"
    }
   ],
   "source": [
    "S = []\n",
    "for i in range(2,10):\n",
    "    gmm = GaussianMixture(n_components=i, random_state=7)\n",
    "    gmm.fit(combined_axes)\n",
    "    sil_score = silhouette_score(combined_axes, gmm.predict(combined_axes))\n",
    "    S.append(sil_score)\n",
    "\n",
    "plt.plot(range(2,10), S, 'bx-')\n",
    "plt.xlabel('# Clusters')\n",
    "plt.ylabel('Silhouette Score')\n",
    "plt.title('GMM Optimal k - Silhouette Score')\n",
    "plt.show()"
   ]
  },
  {
   "cell_type": "code",
   "execution_count": 146,
   "id": "b30d5e5d",
   "metadata": {},
   "outputs": [
    {
     "data": {
      "image/png": "[encoded data removed]",
      "text/plain": [
       "<Figure size 432x288 with 1 Axes>"
      ]
     },
     "metadata": {
      "needs_background": "light"
     },
     "output_type": "display_data"
    }
   ],
   "source": [
    "bic_scores=[]\n",
    "for i in range(2,10):\n",
    "    gmm_bic = GaussianMixture(n_components = i, random_state=4)\n",
    "    gmm_bic.fit(combined_axes)\n",
    "    bic_scores.append(-gmm_bic.bic(combined_axes))\n",
    "\n",
    "plt.plot(range(2,10), bic_scores, 'bx-', color='green')\n",
    "plt.xlabel('# Clusters')\n",
    "plt.ylabel('BIC')\n",
    "plt.title('GMM Optimal k - BIC Score')\n",
    "plt.show()"
   ]
  },
  {
   "cell_type": "code",
   "execution_count": 147,
   "id": "cf826b7d",
   "metadata": {},
   "outputs": [],
   "source": [
    "gmm = GaussianMixture(n_components = 4, random_state=4)\n",
    "gmm.fit(combined_axes)\n",
    "summary['GMM Cluster'] = gmm.predict(combined_axes)"
   ]
  },
  {
   "cell_type": "code",
   "execution_count": 190,
   "id": "c0704fec",
   "metadata": {},
   "outputs": [
    {
     "data": {
      "image/png": "[encoded data removed]",
      "text/plain": [
       "<Figure size 432x288 with 1 Axes>"
      ]
     },
     "metadata": {
      "needs_background": "light"
     },
     "output_type": "display_data"
    }
   ],
   "source": [
    "sns.scatterplot(data=style_of_play, x='Defense - Offense', y='Strength - Skill',palette='Set1',hue=summary['GMM Cluster'])\n",
    "plt.xlabel('Defense - Offense')\n",
    "plt.ylabel('Strength - Skill')\n",
    "plt.axvline(x=0,color='black',linewidth=0.5)\n",
    "plt.axhline(y=0,color='black',linewidth=0.5)\n",
    "plt.legend(title='GMM Cluster')\n",
    "plt.title('GMM Clusters by Style of Play')\n",
    "plt.show()"
   ]
  },
  {
   "cell_type": "code",
   "execution_count": 191,
   "id": "4b6cba28",
   "metadata": {},
   "outputs": [
    {
     "data": {
      "image/png": "[encoded data removed]",
      "text/plain": [
       "<Figure size 432x288 with 1 Axes>"
      ]
     },
     "metadata": {
      "needs_background": "light"
     },
     "output_type": "display_data"
    }
   ],
   "source": [
    "sns.scatterplot(data=pca_df, x='PC1', y='PC2', palette='Set1',hue=summary['GMM Cluster'])\n",
    "plt.xlabel('PC-1')\n",
    "plt.ylabel('PC-2')\n",
    "plt.axvline(x=0,color='black',linewidth=0.5)\n",
    "plt.axhline(y=0,color='black',linewidth=0.5)\n",
    "plt.legend(title='GMM Cluster')\n",
    "plt.title('GMM Clusters by Style of Play')\n",
    "plt.show()"
   ]
  },
  {
   "cell_type": "code",
   "execution_count": 192,
   "id": "2b52233d",
   "metadata": {},
   "outputs": [
    {
     "data": {
      "image/png": "[encoded data removed]",
      "text/plain": [
       "<Figure size 864x432 with 2 Axes>"
      ]
     },
     "metadata": {
      "needs_background": "light"
     },
     "output_type": "display_data"
    }
   ],
   "source": [
    "plt.figure(figsize=(12,6))\n",
    "plt.subplot(1,2,1)\n",
    "sns.countplot(data=summary, x='GMM Cluster', palette='Set1')\n",
    "plt.title('Quantity of Teams per GMM Cluster')\n",
    "plt.subplot(1,2,2)\n",
    "sns.scatterplot(data=pca_df, x='PC1', y='PC2', palette='Set1',hue=summary['GMM Cluster'])\n",
    "plt.xlabel('PC-1')\n",
    "plt.ylabel('PC-2')\n",
    "plt.axvline(x=0,color='black',linewidth=0.5)\n",
    "plt.axhline(y=0,color='black',linewidth=0.5)\n",
    "plt.legend(title='GMM Cluster')\n",
    "plt.title('GMM Clusters by Style of Play')\n",
    "plt.show()"
   ]
  },
  {
   "cell_type": "markdown",
   "id": "50b2c25e",
   "metadata": {},
   "source": [
    "Model Comparison"
   ]
  },
  {
   "cell_type": "code",
   "execution_count": 150,
   "id": "6058218d",
   "metadata": {},
   "outputs": [
    {
     "name": "stdout",
     "output_type": "stream",
     "text": [
      "Silhouette Score Comparison\n",
      "K-Means Score:  0.24668434915007906\n",
      "GMM Score:  0.26867349980832284\n"
     ]
    }
   ],
   "source": [
    "kmeans_sil = silhouette_score(combined_axes, summary['KM Cluster'], random_state=10)\n",
    "gmm_sil = silhouette_score(combined_axes, summary['GMM Cluster'], random_state=5)\n",
    "print('Silhouette Score Comparison')\n",
    "print('K-Means Score: ', kmeans_sil)\n",
    "print('GMM Score: ', gmm_sil)"
   ]
  },
  {
   "cell_type": "markdown",
   "id": "e0211657",
   "metadata": {},
   "source": [
    "Cluster Qualities"
   ]
  },
  {
   "cell_type": "code",
   "execution_count": 151,
   "id": "f55ce197",
   "metadata": {},
   "outputs": [
    {
     "data": {
      "text/html": [
       "<div>\n",
       "<style scoped>\n",
       "    .dataframe tbody tr th:only-of-type {\n",
       "        vertical-align: middle;\n",
       "    }\n",
       "\n",
       "    .dataframe tbody tr th {\n",
       "        vertical-align: top;\n",
       "    }\n",
       "\n",
       "    .dataframe thead th {\n",
       "        text-align: right;\n",
       "    }\n",
       "</style>\n",
       "<table border=\"1\" class=\"dataframe\">\n",
       "  <thead>\n",
       "    <tr style=\"text-align: right;\">\n",
       "      <th></th>\n",
       "      <th>Count</th>\n",
       "      <th>%</th>\n",
       "    </tr>\n",
       "    <tr>\n",
       "      <th>KM Cluster</th>\n",
       "      <th></th>\n",
       "      <th></th>\n",
       "    </tr>\n",
       "  </thead>\n",
       "  <tbody>\n",
       "    <tr>\n",
       "      <th>0</th>\n",
       "      <td>25</td>\n",
       "      <td>0.185185</td>\n",
       "    </tr>\n",
       "    <tr>\n",
       "      <th>1</th>\n",
       "      <td>22</td>\n",
       "      <td>0.162963</td>\n",
       "    </tr>\n",
       "    <tr>\n",
       "      <th>2</th>\n",
       "      <td>11</td>\n",
       "      <td>0.081481</td>\n",
       "    </tr>\n",
       "    <tr>\n",
       "      <th>3</th>\n",
       "      <td>37</td>\n",
       "      <td>0.274074</td>\n",
       "    </tr>\n",
       "    <tr>\n",
       "      <th>4</th>\n",
       "      <td>40</td>\n",
       "      <td>0.296296</td>\n",
       "    </tr>\n",
       "  </tbody>\n",
       "</table>\n",
       "</div>"
      ],
      "text/plain": [
       "            Count         %\n",
       "KM Cluster                 \n",
       "0              25  0.185185\n",
       "1              22  0.162963\n",
       "2              11  0.081481\n",
       "3              37  0.274074\n",
       "4              40  0.296296"
      ]
     },
     "execution_count": 151,
     "metadata": {},
     "output_type": "execute_result"
    }
   ],
   "source": [
    "summary['Count']=1\n",
    "km_dist = pd.DataFrame(summary.groupby(by='KM Cluster').sum()['Count'])\n",
    "km_dist['%'] = km_dist['Count']/135\n",
    "km_dist"
   ]
  },
  {
   "cell_type": "code",
   "execution_count": 152,
   "id": "df1a24f7",
   "metadata": {},
   "outputs": [],
   "source": [
    "cluster_dict = summary['KM Cluster'].to_dict()"
   ]
  },
  {
   "cell_type": "code",
   "execution_count": 153,
   "id": "933a642d",
   "metadata": {},
   "outputs": [],
   "source": [
    "match_data['Home Cluster'] = match_data['Home Team']\n",
    "match_data = match_data.replace({'Home Cluster': cluster_dict})\n",
    "\n",
    "match_data['Away Cluster'] = match_data['Away Team']\n",
    "match_data = match_data.replace({'Away Cluster': cluster_dict})"
   ]
  },
  {
   "cell_type": "code",
   "execution_count": 154,
   "id": "27633448",
   "metadata": {},
   "outputs": [],
   "source": [
    "home_cluster_df = pd.get_dummies(match_data['Home Cluster'], prefix = 'Home')\n",
    "away_cluster_df = pd.get_dummies(match_data['Away Cluster'], prefix = 'Away')\n",
    "\n",
    "match_data = pd.concat([match_data, home_cluster_df, away_cluster_df], axis=1)"
   ]
  },
  {
   "cell_type": "code",
   "execution_count": 155,
   "id": "b08d7c42",
   "metadata": {},
   "outputs": [
    {
     "data": {
      "text/html": [
       "<div>\n",
       "<style scoped>\n",
       "    .dataframe tbody tr th:only-of-type {\n",
       "        vertical-align: middle;\n",
       "    }\n",
       "\n",
       "    .dataframe tbody tr th {\n",
       "        vertical-align: top;\n",
       "    }\n",
       "\n",
       "    .dataframe thead th {\n",
       "        text-align: right;\n",
       "    }\n",
       "</style>\n",
       "<table border=\"1\" class=\"dataframe\">\n",
       "  <thead>\n",
       "    <tr style=\"text-align: right;\">\n",
       "      <th></th>\n",
       "      <th></th>\n",
       "      <th>Expected Result</th>\n",
       "    </tr>\n",
       "    <tr>\n",
       "      <th>Home Cluster</th>\n",
       "      <th>Expected Result</th>\n",
       "      <th></th>\n",
       "    </tr>\n",
       "  </thead>\n",
       "  <tbody>\n",
       "    <tr>\n",
       "      <th rowspan=\"2\" valign=\"top\">0</th>\n",
       "      <th>Upset</th>\n",
       "      <td>440</td>\n",
       "    </tr>\n",
       "    <tr>\n",
       "      <th>Expected</th>\n",
       "      <td>420</td>\n",
       "    </tr>\n",
       "    <tr>\n",
       "      <th rowspan=\"2\" valign=\"top\">1</th>\n",
       "      <th>Expected</th>\n",
       "      <td>1061</td>\n",
       "    </tr>\n",
       "    <tr>\n",
       "      <th>Upset</th>\n",
       "      <td>805</td>\n",
       "    </tr>\n",
       "    <tr>\n",
       "      <th rowspan=\"2\" valign=\"top\">2</th>\n",
       "      <th>Expected</th>\n",
       "      <td>734</td>\n",
       "    </tr>\n",
       "    <tr>\n",
       "      <th>Upset</th>\n",
       "      <td>287</td>\n",
       "    </tr>\n",
       "    <tr>\n",
       "      <th rowspan=\"2\" valign=\"top\">3</th>\n",
       "      <th>Upset</th>\n",
       "      <td>1150</td>\n",
       "    </tr>\n",
       "    <tr>\n",
       "      <th>Expected</th>\n",
       "      <td>1019</td>\n",
       "    </tr>\n",
       "    <tr>\n",
       "      <th rowspan=\"2\" valign=\"top\">4</th>\n",
       "      <th>Upset</th>\n",
       "      <td>1392</td>\n",
       "    </tr>\n",
       "    <tr>\n",
       "      <th>Expected</th>\n",
       "      <td>1239</td>\n",
       "    </tr>\n",
       "  </tbody>\n",
       "</table>\n",
       "</div>"
      ],
      "text/plain": [
       "                              Expected Result\n",
       "Home Cluster Expected Result                 \n",
       "0            Upset                        440\n",
       "             Expected                     420\n",
       "1            Expected                    1061\n",
       "             Upset                        805\n",
       "2            Expected                     734\n",
       "             Upset                        287\n",
       "3            Upset                       1150\n",
       "             Expected                    1019\n",
       "4            Upset                       1392\n",
       "             Expected                    1239"
      ]
     },
     "execution_count": 155,
     "metadata": {},
     "output_type": "execute_result"
    }
   ],
   "source": [
    "pd.DataFrame(match_data.groupby(by='Home Cluster')['Expected Result'].value_counts())"
   ]
  },
  {
   "cell_type": "code",
   "execution_count": 156,
   "id": "1f469a48",
   "metadata": {},
   "outputs": [
    {
     "data": {
      "text/html": [
       "<div>\n",
       "<style scoped>\n",
       "    .dataframe tbody tr th:only-of-type {\n",
       "        vertical-align: middle;\n",
       "    }\n",
       "\n",
       "    .dataframe tbody tr th {\n",
       "        vertical-align: top;\n",
       "    }\n",
       "\n",
       "    .dataframe thead th {\n",
       "        text-align: right;\n",
       "    }\n",
       "</style>\n",
       "<table border=\"1\" class=\"dataframe\">\n",
       "  <thead>\n",
       "    <tr style=\"text-align: right;\">\n",
       "      <th></th>\n",
       "      <th></th>\n",
       "      <th>Expected Result</th>\n",
       "    </tr>\n",
       "    <tr>\n",
       "      <th>Away Cluster</th>\n",
       "      <th>Expected Result</th>\n",
       "      <th></th>\n",
       "    </tr>\n",
       "  </thead>\n",
       "  <tbody>\n",
       "    <tr>\n",
       "      <th rowspan=\"2\" valign=\"top\">0</th>\n",
       "      <th>Expected</th>\n",
       "      <td>589</td>\n",
       "    </tr>\n",
       "    <tr>\n",
       "      <th>Upset</th>\n",
       "      <td>416</td>\n",
       "    </tr>\n",
       "    <tr>\n",
       "      <th rowspan=\"2\" valign=\"top\">1</th>\n",
       "      <th>Upset</th>\n",
       "      <td>907</td>\n",
       "    </tr>\n",
       "    <tr>\n",
       "      <th>Expected</th>\n",
       "      <td>880</td>\n",
       "    </tr>\n",
       "    <tr>\n",
       "      <th rowspan=\"2\" valign=\"top\">2</th>\n",
       "      <th>Expected</th>\n",
       "      <td>560</td>\n",
       "    </tr>\n",
       "    <tr>\n",
       "      <th>Upset</th>\n",
       "      <td>379</td>\n",
       "    </tr>\n",
       "    <tr>\n",
       "      <th rowspan=\"2\" valign=\"top\">3</th>\n",
       "      <th>Expected</th>\n",
       "      <td>1108</td>\n",
       "    </tr>\n",
       "    <tr>\n",
       "      <th>Upset</th>\n",
       "      <td>1056</td>\n",
       "    </tr>\n",
       "    <tr>\n",
       "      <th rowspan=\"2\" valign=\"top\">4</th>\n",
       "      <th>Expected</th>\n",
       "      <td>1336</td>\n",
       "    </tr>\n",
       "    <tr>\n",
       "      <th>Upset</th>\n",
       "      <td>1316</td>\n",
       "    </tr>\n",
       "  </tbody>\n",
       "</table>\n",
       "</div>"
      ],
      "text/plain": [
       "                              Expected Result\n",
       "Away Cluster Expected Result                 \n",
       "0            Expected                     589\n",
       "             Upset                        416\n",
       "1            Upset                        907\n",
       "             Expected                     880\n",
       "2            Expected                     560\n",
       "             Upset                        379\n",
       "3            Expected                    1108\n",
       "             Upset                       1056\n",
       "4            Expected                    1336\n",
       "             Upset                       1316"
      ]
     },
     "execution_count": 156,
     "metadata": {},
     "output_type": "execute_result"
    }
   ],
   "source": [
    "pd.DataFrame(match_data.groupby(by='Away Cluster')['Expected Result'].value_counts())"
   ]
  },
  {
   "cell_type": "code",
   "execution_count": 157,
   "id": "156cb15b",
   "metadata": {},
   "outputs": [
    {
     "data": {
      "image/png": "[encoded data removed]",
      "text/plain": [
       "<Figure size 432x288 with 1 Axes>"
      ]
     },
     "metadata": {},
     "output_type": "display_data"
    }
   ],
   "source": [
    "pie = match_data['Expected Result'].value_counts()\n",
    "label = ['Expected', 'Upset']\n",
    "plt.pie(pie, labels=label, autopct='%1.1f%%')\n",
    "plt.title('Result Distribution')\n",
    "plt.show()"
   ]
  },
  {
   "cell_type": "code",
   "execution_count": 158,
   "id": "33a0d631",
   "metadata": {},
   "outputs": [
    {
     "data": {
      "image/png": "[encoded data removed]",
      "text/plain": [
       "<Figure size 432x288 with 1 Axes>"
      ]
     },
     "metadata": {
      "needs_background": "light"
     },
     "output_type": "display_data"
    }
   ],
   "source": [
    "# Code here for the bar plot by season\n",
    "counts = match_data.groupby(by=['Season', 'Expected Result']).size().unstack(fill_value=0)\n",
    "percentages = counts.apply(lambda x: x/x.sum(), axis=1) * 100\n",
    "\n",
    "ax = counts.plot(kind='bar', stacked=True)\n",
    "ax.set_xlabel('Season')\n",
    "ax.set_ylabel('Count')\n",
    "ax.set_title('Results of Games by Season')\n",
    "for i, row in enumerate(percentages.iterrows()):\n",
    "    season, data = row\n",
    "    total = data.sum()\n",
    "    y_pos = counts.iloc[i].cumsum() - counts.iloc[i] / 2\n",
    "    for j, val in enumerate(data):\n",
    "        if val > 0:\n",
    "            ax.text(i, y_pos[j], f'{val:.1f}%', ha='center', va='center')\n",
    "plt.show()"
   ]
  },
  {
   "cell_type": "markdown",
   "id": "457e0972",
   "metadata": {},
   "source": [
    "# Classification"
   ]
  },
  {
   "cell_type": "code",
   "execution_count": 159,
   "id": "479f8074",
   "metadata": {},
   "outputs": [],
   "source": [
    "match_data['Expected Result #'] = match_data.loc[:,'Expected Result']\n",
    "match_data = match_data.replace({'Expected Result #': {'Expected':0,'Upset':1}})"
   ]
  },
  {
   "cell_type": "code",
   "execution_count": 160,
   "id": "1e263eba",
   "metadata": {},
   "outputs": [],
   "source": [
    "class_cols = ['temp', 'dwpt', 'rhum', 'wspd', 'wpgt', 'pres', 'tsun', 'Condition', 'Int:Temp*Hum', 'Int:Prec*Wind',\n",
    "       'Int:Gust*Wind', 'prcp_Heavy', 'prcp_Light', 'prcp_Mod', 'prcp_None',\n",
    "       'snow_Heavy', 'snow_None', 'Home_0', 'Home_1','Home_2', 'Home_3', 'Home_4', 'Away_0', 'Away_1', 'Away_2', 'Away_3', 'HFA']"
   ]
  },
  {
   "cell_type": "code",
   "execution_count": 161,
   "id": "dacc1b10",
   "metadata": {},
   "outputs": [],
   "source": [
    "X_result = match_data[class_cols]\n",
    "y_result = match_data['Expected Result #']\n",
    "\n",
    "scaler = StandardScaler()\n",
    "scaler.fit_transform(X_result)\n",
    "\n",
    "x_train, x_test, y_train, y_test = train_test_split(X_result, y_result, test_size = 0.2, random_state = 4)"
   ]
  },
  {
   "cell_type": "markdown",
   "id": "1a8dbe5d",
   "metadata": {},
   "source": [
    "SVM"
   ]
  },
  {
   "cell_type": "code",
   "execution_count": 162,
   "id": "3a770dff",
   "metadata": {},
   "outputs": [
    {
     "data": {
      "text/html": [
       "<div>\n",
       "<style scoped>\n",
       "    .dataframe tbody tr th:only-of-type {\n",
       "        vertical-align: middle;\n",
       "    }\n",
       "\n",
       "    .dataframe tbody tr th {\n",
       "        vertical-align: top;\n",
       "    }\n",
       "\n",
       "    .dataframe thead th {\n",
       "        text-align: right;\n",
       "    }\n",
       "</style>\n",
       "<table border=\"1\" class=\"dataframe\">\n",
       "  <thead>\n",
       "    <tr style=\"text-align: right;\">\n",
       "      <th></th>\n",
       "      <th>Kernel</th>\n",
       "      <th>C</th>\n",
       "      <th>Accuracy</th>\n",
       "    </tr>\n",
       "  </thead>\n",
       "  <tbody>\n",
       "    <tr>\n",
       "      <th>0</th>\n",
       "      <td>linear</td>\n",
       "      <td>0.1</td>\n",
       "      <td>0.691228</td>\n",
       "    </tr>\n",
       "    <tr>\n",
       "      <th>1</th>\n",
       "      <td>linear</td>\n",
       "      <td>1.0</td>\n",
       "      <td>0.674854</td>\n",
       "    </tr>\n",
       "    <tr>\n",
       "      <th>3</th>\n",
       "      <td>linear</td>\n",
       "      <td>100.0</td>\n",
       "      <td>0.661988</td>\n",
       "    </tr>\n",
       "    <tr>\n",
       "      <th>2</th>\n",
       "      <td>linear</td>\n",
       "      <td>10.0</td>\n",
       "      <td>0.659649</td>\n",
       "    </tr>\n",
       "    <tr>\n",
       "      <th>7</th>\n",
       "      <td>rbf</td>\n",
       "      <td>100.0</td>\n",
       "      <td>0.522222</td>\n",
       "    </tr>\n",
       "  </tbody>\n",
       "</table>\n",
       "</div>"
      ],
      "text/plain": [
       "   Kernel      C  Accuracy\n",
       "0  linear    0.1  0.691228\n",
       "1  linear    1.0  0.674854\n",
       "3  linear  100.0  0.661988\n",
       "2  linear   10.0  0.659649\n",
       "7     rbf  100.0  0.522222"
      ]
     },
     "execution_count": 162,
     "metadata": {},
     "output_type": "execute_result"
    }
   ],
   "source": [
    "kernel = ['linear', 'rbf', 'poly']\n",
    "Cs = [0.1,1,10,100]\n",
    "svm_results = pd.DataFrame(columns=['Kernel', 'C', 'Accuracy'])\n",
    "\n",
    "for kernel in kernel: \n",
    "    for C in [0.1,1,10,100]:\n",
    "        svm = SVC(kernel=kernel, C=C, random_state=4)\n",
    "        svm.fit(x_train, y_train)\n",
    "        pred_svm = svm.predict(x_test)\n",
    "        accuracy_svm = accuracy_score(y_test, pred_svm)\n",
    "        temp = pd.DataFrame([[kernel, C, accuracy_svm]],columns=['Kernel', 'C', 'Accuracy'])\n",
    "        svm_results = svm_results.append(temp, ignore_index=True)\n",
    "            \n",
    "svm_results.sort_values(by='Accuracy', ascending=False).head(5)"
   ]
  },
  {
   "cell_type": "code",
   "execution_count": 194,
   "id": "55c2d0a2",
   "metadata": {},
   "outputs": [
    {
     "name": "stdout",
     "output_type": "stream",
     "text": [
      "Accuracy: 0.69\n"
     ]
    }
   ],
   "source": [
    "svm = SVC(kernel = 'linear', C = 0.1, random_state=4)\n",
    "svm.fit(x_train, y_train)\n",
    "\n",
    "pred_svm = svm.predict(x_test)\n",
    "accuracy_svm = accuracy_score(y_test, pred_svm)\n",
    "print(f'Accuracy: {accuracy_svm:.2f}')"
   ]
  },
  {
   "cell_type": "markdown",
   "id": "f64098a0",
   "metadata": {},
   "source": [
    "Decision Tree"
   ]
  },
  {
   "cell_type": "code",
   "execution_count": 164,
   "id": "751a443a",
   "metadata": {},
   "outputs": [
    {
     "data": {
      "text/html": [
       "<div>\n",
       "<style scoped>\n",
       "    .dataframe tbody tr th:only-of-type {\n",
       "        vertical-align: middle;\n",
       "    }\n",
       "\n",
       "    .dataframe tbody tr th {\n",
       "        vertical-align: top;\n",
       "    }\n",
       "\n",
       "    .dataframe thead th {\n",
       "        text-align: right;\n",
       "    }\n",
       "</style>\n",
       "<table border=\"1\" class=\"dataframe\">\n",
       "  <thead>\n",
       "    <tr style=\"text-align: right;\">\n",
       "      <th></th>\n",
       "      <th>Max Features</th>\n",
       "      <th>Depth</th>\n",
       "      <th>Accuracy</th>\n",
       "    </tr>\n",
       "  </thead>\n",
       "  <tbody>\n",
       "    <tr>\n",
       "      <th>2</th>\n",
       "      <td>sqrt</td>\n",
       "      <td>5</td>\n",
       "      <td>0.780117</td>\n",
       "    </tr>\n",
       "    <tr>\n",
       "      <th>7</th>\n",
       "      <td>log2</td>\n",
       "      <td>5</td>\n",
       "      <td>0.780117</td>\n",
       "    </tr>\n",
       "    <tr>\n",
       "      <th>3</th>\n",
       "      <td>sqrt</td>\n",
       "      <td>6</td>\n",
       "      <td>0.776608</td>\n",
       "    </tr>\n",
       "    <tr>\n",
       "      <th>8</th>\n",
       "      <td>log2</td>\n",
       "      <td>6</td>\n",
       "      <td>0.776608</td>\n",
       "    </tr>\n",
       "    <tr>\n",
       "      <th>4</th>\n",
       "      <td>sqrt</td>\n",
       "      <td>7</td>\n",
       "      <td>0.765497</td>\n",
       "    </tr>\n",
       "  </tbody>\n",
       "</table>\n",
       "</div>"
      ],
      "text/plain": [
       "  Max Features Depth  Accuracy\n",
       "2         sqrt     5  0.780117\n",
       "7         log2     5  0.780117\n",
       "3         sqrt     6  0.776608\n",
       "8         log2     6  0.776608\n",
       "4         sqrt     7  0.765497"
      ]
     },
     "execution_count": 164,
     "metadata": {},
     "output_type": "execute_result"
    }
   ],
   "source": [
    "max_features = ['sqrt', 'log2']\n",
    "dt_results = pd.DataFrame(columns=['Max Features', 'Depth', 'Accuracy'])\n",
    "\n",
    "for max_features in max_features:\n",
    "    for depth in range(3,8): \n",
    "        dt = tree.DecisionTreeClassifier(max_depth=depth, random_state=42)\n",
    "        dt.fit(x_train, y_train)\n",
    "        pred_dt = dt.predict(x_test)\n",
    "        accuracy_dt = accuracy_score(y_test, pred_dt)\n",
    "        temp = pd.DataFrame([[max_features, depth, accuracy_dt]],columns=['Max Features', 'Depth', 'Accuracy'])\n",
    "        dt_results = dt_results.append(temp, ignore_index=True)\n",
    "\n",
    "dt_results.sort_values(by='Accuracy', ascending=False).head(5)"
   ]
  },
  {
   "cell_type": "code",
   "execution_count": 165,
   "id": "ab03e7eb",
   "metadata": {},
   "outputs": [
    {
     "name": "stdout",
     "output_type": "stream",
     "text": [
      "Accuracy: 0.7801\n",
      "Max Features:  27\n"
     ]
    }
   ],
   "source": [
    "dt = tree.DecisionTreeClassifier(max_depth = 5, random_state = 42)\n",
    "dt = dt.fit(x_train, y_train)\n",
    "\n",
    "pred_dt = dt.predict(x_test)\n",
    "accuracy_dt = accuracy_score(y_test, pred_dt)\n",
    "print(f'Accuracy: {accuracy_dt:.4f}')\n",
    "print('Max Features: ', dt.max_features_)"
   ]
  },
  {
   "cell_type": "markdown",
   "id": "a9da1b02",
   "metadata": {},
   "source": [
    "Random Forest"
   ]
  },
  {
   "cell_type": "code",
   "execution_count": 166,
   "id": "c8523124",
   "metadata": {},
   "outputs": [
    {
     "data": {
      "text/html": [
       "<div>\n",
       "<style scoped>\n",
       "    .dataframe tbody tr th:only-of-type {\n",
       "        vertical-align: middle;\n",
       "    }\n",
       "\n",
       "    .dataframe tbody tr th {\n",
       "        vertical-align: top;\n",
       "    }\n",
       "\n",
       "    .dataframe thead th {\n",
       "        text-align: right;\n",
       "    }\n",
       "</style>\n",
       "<table border=\"1\" class=\"dataframe\">\n",
       "  <thead>\n",
       "    <tr style=\"text-align: right;\">\n",
       "      <th></th>\n",
       "      <th>Estimators</th>\n",
       "      <th>Min Leaf</th>\n",
       "      <th>Max Features</th>\n",
       "      <th>Depth</th>\n",
       "      <th>Accuracy</th>\n",
       "    </tr>\n",
       "  </thead>\n",
       "  <tbody>\n",
       "    <tr>\n",
       "      <th>29</th>\n",
       "      <td>10</td>\n",
       "      <td>10</td>\n",
       "      <td>log2</td>\n",
       "      <td>7</td>\n",
       "      <td>0.769591</td>\n",
       "    </tr>\n",
       "    <tr>\n",
       "      <th>39</th>\n",
       "      <td>10</td>\n",
       "      <td>50</td>\n",
       "      <td>log2</td>\n",
       "      <td>7</td>\n",
       "      <td>0.760819</td>\n",
       "    </tr>\n",
       "    <tr>\n",
       "      <th>99</th>\n",
       "      <td>50</td>\n",
       "      <td>10</td>\n",
       "      <td>log2</td>\n",
       "      <td>7</td>\n",
       "      <td>0.759649</td>\n",
       "    </tr>\n",
       "    <tr>\n",
       "      <th>424</th>\n",
       "      <td>300</td>\n",
       "      <td>1</td>\n",
       "      <td>sqrt</td>\n",
       "      <td>7</td>\n",
       "      <td>0.757310</td>\n",
       "    </tr>\n",
       "    <tr>\n",
       "      <th>239</th>\n",
       "      <td>150</td>\n",
       "      <td>10</td>\n",
       "      <td>log2</td>\n",
       "      <td>7</td>\n",
       "      <td>0.756140</td>\n",
       "    </tr>\n",
       "  </tbody>\n",
       "</table>\n",
       "</div>"
      ],
      "text/plain": [
       "    Estimators Min Leaf Max Features Depth  Accuracy\n",
       "29          10       10         log2     7  0.769591\n",
       "39          10       50         log2     7  0.760819\n",
       "99          50       10         log2     7  0.759649\n",
       "424        300        1         sqrt     7  0.757310\n",
       "239        150       10         log2     7  0.756140"
      ]
     },
     "execution_count": 166,
     "metadata": {},
     "output_type": "execute_result"
    }
   ],
   "source": [
    "n_estimators = [10,50,100,150,200,250,300]\n",
    "min_leaf = [1,5,10,50,100,200,500]\n",
    "max_feature = ['sqrt', 'log2']\n",
    "rf_results = pd.DataFrame(columns=['Estimators', 'Min Leaf', 'Max Features', 'Depth', 'Accuracy'])\n",
    "\n",
    "for n_estimators in n_estimators:\n",
    "    for min_leaf in [1,5,10,50,100,200,500]:\n",
    "        for max_features in max_feature:\n",
    "            for depth in range(3,8):\n",
    "                rf = RandomForestClassifier(n_estimators = n_estimators, max_depth = depth, min_samples_leaf = min_leaf, max_features = max_features, random_state=4)\n",
    "                rf.fit(x_train, y_train)\n",
    "                pred_rf = rf.predict(x_test)\n",
    "                accuracy_rf = accuracy_score(y_test, pred_rf)\n",
    "                temp = pd.DataFrame([[n_estimators, min_leaf, max_features, depth, accuracy_rf]], columns=['Estimators', 'Min Leaf', 'Max Features', 'Depth','Accuracy'])\n",
    "                rf_results = rf_results.append(temp, ignore_index=True)\n",
    "\n",
    "rf_results.sort_values(by='Accuracy', ascending=False).head(5)"
   ]
  },
  {
   "cell_type": "markdown",
   "id": "40bc9071",
   "metadata": {},
   "source": [
    "Logistic Regression"
   ]
  },
  {
   "cell_type": "code",
   "execution_count": 167,
   "id": "4c48bcf2",
   "metadata": {},
   "outputs": [
    {
     "name": "stdout",
     "output_type": "stream",
     "text": [
      "Accuracy: 0.754\n"
     ]
    }
   ],
   "source": [
    "rf = RandomForestClassifier(random_state=4)\n",
    "rf.fit(x_train, y_train)\n",
    "\n",
    "pred_rf = rf.predict(x_test)\n",
    "accuracy_rf = accuracy_score(y_test, pred_rf)\n",
    "print(f'Accuracy: {accuracy_rf:.3f}')"
   ]
  },
  {
   "cell_type": "code",
   "execution_count": 168,
   "id": "c13d2de8",
   "metadata": {},
   "outputs": [
    {
     "data": {
      "text/html": [
       "<div>\n",
       "<style scoped>\n",
       "    .dataframe tbody tr th:only-of-type {\n",
       "        vertical-align: middle;\n",
       "    }\n",
       "\n",
       "    .dataframe tbody tr th {\n",
       "        vertical-align: top;\n",
       "    }\n",
       "\n",
       "    .dataframe thead th {\n",
       "        text-align: right;\n",
       "    }\n",
       "</style>\n",
       "<table border=\"1\" class=\"dataframe\">\n",
       "  <thead>\n",
       "    <tr style=\"text-align: right;\">\n",
       "      <th></th>\n",
       "      <th>Penalty</th>\n",
       "      <th>C</th>\n",
       "      <th>Accuracy</th>\n",
       "    </tr>\n",
       "  </thead>\n",
       "  <tbody>\n",
       "    <tr>\n",
       "      <th>6</th>\n",
       "      <td>l2</td>\n",
       "      <td>10.0</td>\n",
       "      <td>0.660819</td>\n",
       "    </tr>\n",
       "    <tr>\n",
       "      <th>5</th>\n",
       "      <td>l2</td>\n",
       "      <td>1.0</td>\n",
       "      <td>0.659064</td>\n",
       "    </tr>\n",
       "    <tr>\n",
       "      <th>7</th>\n",
       "      <td>l2</td>\n",
       "      <td>100.0</td>\n",
       "      <td>0.659064</td>\n",
       "    </tr>\n",
       "    <tr>\n",
       "      <th>1</th>\n",
       "      <td>l1</td>\n",
       "      <td>1.0</td>\n",
       "      <td>0.657310</td>\n",
       "    </tr>\n",
       "    <tr>\n",
       "      <th>2</th>\n",
       "      <td>l1</td>\n",
       "      <td>10.0</td>\n",
       "      <td>0.656140</td>\n",
       "    </tr>\n",
       "  </tbody>\n",
       "</table>\n",
       "</div>"
      ],
      "text/plain": [
       "  Penalty      C  Accuracy\n",
       "6      l2   10.0  0.660819\n",
       "5      l2    1.0  0.659064\n",
       "7      l2  100.0  0.659064\n",
       "1      l1    1.0  0.657310\n",
       "2      l1   10.0  0.656140"
      ]
     },
     "execution_count": 168,
     "metadata": {},
     "output_type": "execute_result"
    }
   ],
   "source": [
    "penalty = ['l1', 'l2']\n",
    "C = [0.1,1,10,100]\n",
    "lr_results = pd.DataFrame(columns=['Penalty', 'C', 'Accuracy'])\n",
    "\n",
    "for penalty in penalty:\n",
    "    for C in [0.1,1,10,100]:\n",
    "        lr = LogisticRegression(penalty = penalty, C = C, solver='liblinear', random_state=4)\n",
    "        lr.fit(x_train,y_train)\n",
    "        pred_lr = lr.predict(x_test)\n",
    "        accuracy_lr = accuracy_score(y_test, pred_lr)\n",
    "        temp = pd.DataFrame([[penalty, C, accuracy_lr]], columns=['Penalty', 'C', 'Accuracy'])\n",
    "        lr_results = lr_results.append(temp, ignore_index=True)\n",
    "\n",
    "lr_results.sort_values(by='Accuracy', ascending=False).head(5)"
   ]
  },
  {
   "cell_type": "markdown",
   "id": "ec1c8c2d",
   "metadata": {},
   "source": [
    "Other Performance Measures"
   ]
  },
  {
   "cell_type": "code",
   "execution_count": 170,
   "id": "b00743ef",
   "metadata": {},
   "outputs": [],
   "source": [
    "def metrics(y_test, pred, model):\n",
    "    accuracy = accuracy_score(y_test, pred)\n",
    "    precision = precision_score(y_test, pred)\n",
    "    recall = recall_score(y_test, pred)\n",
    "    f1 = f1_score(y_test, pred)\n",
    "    roc = roc_auc_score(y_test, pred)\n",
    "    metrics = pd.DataFrame([[accuracy, precision,recall,f1,roc]], index = [str(model)], columns=['Accuracy', 'Precision', 'Recall', 'F1 Score', 'ROC-AUC'])\n",
    "    return metrics"
   ]
  },
  {
   "cell_type": "code",
   "execution_count": 169,
   "id": "3d7ffb35",
   "metadata": {},
   "outputs": [
    {
     "name": "stdout",
     "output_type": "stream",
     "text": [
      "Accuracy: 0.614\n"
     ]
    }
   ],
   "source": [
    "lr = LogisticRegression(random_state=4)\n",
    "lr.fit(x_train,y_train)\n",
    "\n",
    "pred_lr = lr.predict(x_test)\n",
    "accuracy_lr = accuracy_score(y_test, pred_lr)\n",
    "print(f'Accuracy: {accuracy_lr:.3f}')"
   ]
  },
  {
   "cell_type": "code",
   "execution_count": 195,
   "id": "1e50532f",
   "metadata": {},
   "outputs": [
    {
     "data": {
      "text/html": [
       "<div>\n",
       "<style scoped>\n",
       "    .dataframe tbody tr th:only-of-type {\n",
       "        vertical-align: middle;\n",
       "    }\n",
       "\n",
       "    .dataframe tbody tr th {\n",
       "        vertical-align: top;\n",
       "    }\n",
       "\n",
       "    .dataframe thead th {\n",
       "        text-align: right;\n",
       "    }\n",
       "</style>\n",
       "<table border=\"1\" class=\"dataframe\">\n",
       "  <thead>\n",
       "    <tr style=\"text-align: right;\">\n",
       "      <th></th>\n",
       "      <th>Accuracy</th>\n",
       "      <th>Precision</th>\n",
       "      <th>Recall</th>\n",
       "      <th>F1 Score</th>\n",
       "      <th>ROC-AUC</th>\n",
       "    </tr>\n",
       "  </thead>\n",
       "  <tbody>\n",
       "    <tr>\n",
       "      <th>SVC(C=0.1, kernel='linear', random_state=4)</th>\n",
       "      <td>0.691228</td>\n",
       "      <td>0.677033</td>\n",
       "      <td>0.686893</td>\n",
       "      <td>0.681928</td>\n",
       "      <td>0.691076</td>\n",
       "    </tr>\n",
       "    <tr>\n",
       "      <th>DecisionTreeClassifier(max_depth=5, random_state=42)</th>\n",
       "      <td>0.780117</td>\n",
       "      <td>0.795515</td>\n",
       "      <td>0.731796</td>\n",
       "      <td>0.762326</td>\n",
       "      <td>0.778426</td>\n",
       "    </tr>\n",
       "    <tr>\n",
       "      <th>RandomForestClassifier(random_state=4)</th>\n",
       "      <td>0.753801</td>\n",
       "      <td>0.740741</td>\n",
       "      <td>0.752427</td>\n",
       "      <td>0.746538</td>\n",
       "      <td>0.753753</td>\n",
       "    </tr>\n",
       "    <tr>\n",
       "      <th>LogisticRegression(random_state=4)</th>\n",
       "      <td>0.614035</td>\n",
       "      <td>0.597852</td>\n",
       "      <td>0.608010</td>\n",
       "      <td>0.602888</td>\n",
       "      <td>0.613824</td>\n",
       "    </tr>\n",
       "  </tbody>\n",
       "</table>\n",
       "</div>"
      ],
      "text/plain": [
       "                                                    Accuracy  Precision  \\\n",
       "SVC(C=0.1, kernel='linear', random_state=4)         0.691228   0.677033   \n",
       "DecisionTreeClassifier(max_depth=5, random_stat...  0.780117   0.795515   \n",
       "RandomForestClassifier(random_state=4)              0.753801   0.740741   \n",
       "LogisticRegression(random_state=4)                  0.614035   0.597852   \n",
       "\n",
       "                                                      Recall  F1 Score  \\\n",
       "SVC(C=0.1, kernel='linear', random_state=4)         0.686893  0.681928   \n",
       "DecisionTreeClassifier(max_depth=5, random_stat...  0.731796  0.762326   \n",
       "RandomForestClassifier(random_state=4)              0.752427  0.746538   \n",
       "LogisticRegression(random_state=4)                  0.608010  0.602888   \n",
       "\n",
       "                                                     ROC-AUC  \n",
       "SVC(C=0.1, kernel='linear', random_state=4)         0.691076  \n",
       "DecisionTreeClassifier(max_depth=5, random_stat...  0.778426  \n",
       "RandomForestClassifier(random_state=4)              0.753753  \n",
       "LogisticRegression(random_state=4)                  0.613824  "
      ]
     },
     "execution_count": 195,
     "metadata": {},
     "output_type": "execute_result"
    }
   ],
   "source": [
    "pd.concat([metrics(y_test, pred_svm, svm), metrics(y_test, pred_dt, dt), metrics(y_test, pred_rf, rf), metrics(y_test, pred_lr, lr)])"
   ]
  },
  {
   "cell_type": "markdown",
   "id": "43b5e824",
   "metadata": {},
   "source": [
    "Fitting a Decision Tree"
   ]
  },
  {
   "cell_type": "code",
   "execution_count": 199,
   "id": "76118a72",
   "metadata": {},
   "outputs": [],
   "source": [
    "dt_2 = tree.DecisionTreeClassifier(max_depth = 8, max_features = 'sqrt', random_state = 42)\n",
    "dt_2 = dt_2.fit(x_test, y_test)\n",
    "\n",
    "dotfile = open(\"dtree2.dot\", 'w')\n",
    "export_graphviz(dt_2, out_file=dotfile, feature_names=X_result.columns, class_names=['Expected Win', 'Upset Win'], filled=True, rounded=True)\n",
    "dotfile.close()"
   ]
  },
  {
   "cell_type": "code",
   "execution_count": null,
   "id": "16ac6172",
   "metadata": {},
   "outputs": [],
   "source": []
  }
 ],
 "metadata": {
  "kernelspec": {
   "display_name": "Python 3",
   "language": "python",
   "name": "python3"
  },
  "language_info": {
   "codemirror_mode": {
    "name": "ipython",
    "version": 3
   },
   "file_extension": ".py",
   "mimetype": "text/x-python",
   "name": "python",
   "nbconvert_exporter": "python",
   "pygments_lexer": "ipython3",
   "version": "3.8.8"
  }
 },
 "nbformat": 4,
 "nbformat_minor": 5
}
